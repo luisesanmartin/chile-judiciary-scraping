{
 "cells": [
  {
   "cell_type": "code",
   "execution_count": 1,
   "id": "321037ad",
   "metadata": {},
   "outputs": [],
   "source": [
    "import pandas as pd\n",
    "import sys\n",
    "sys.path.insert(0, '../Code/utils')"
   ]
  },
  {
   "cell_type": "code",
   "execution_count": 2,
   "id": "fc841cf5",
   "metadata": {},
   "outputs": [],
   "source": [
    "import objects"
   ]
  },
  {
   "cell_type": "markdown",
   "id": "9728a5c6",
   "metadata": {},
   "source": [
    "# Generating total combinations of year/month/tribunal"
   ]
  },
  {
   "cell_type": "code",
   "execution_count": 3,
   "id": "c18dfb46",
   "metadata": {},
   "outputs": [],
   "source": [
    "years = objects.YEARS\n",
    "months = objects.MONTHS\n",
    "tribunals = objects.TRIBUNALS"
   ]
  },
  {
   "cell_type": "code",
   "execution_count": 4,
   "id": "3b81912c",
   "metadata": {},
   "outputs": [],
   "source": [
    "df = pd.DataFrame(columns=['file', 'year', 'month', 'tribunal'])"
   ]
  },
  {
   "cell_type": "code",
   "execution_count": 5,
   "id": "2b61c0ff",
   "metadata": {},
   "outputs": [],
   "source": [
    "for year in years:\n",
    "    for month in months:\n",
    "        for tribunal in tribunals:\n",
    "            row = ['master_'+str(year)+'_'+month+'_'+tribunal+'.csv', year, month, tribunal]\n",
    "            df.loc[len(df)] = row"
   ]
  },
  {
   "cell_type": "markdown",
   "id": "ad352480",
   "metadata": {},
   "source": [
    "# Loading file with total number of cases per year/month/tribunal"
   ]
  },
  {
   "cell_type": "code",
   "execution_count": 6,
   "id": "5f58ad5c",
   "metadata": {},
   "outputs": [],
   "source": [
    "file_total = '../Outputs/master/total_cases.csv'\n",
    "df_total = pd.read_csv(file_total, encoding='latin1')"
   ]
  },
  {
   "cell_type": "code",
   "execution_count": 7,
   "id": "63ba547a",
   "metadata": {},
   "outputs": [],
   "source": [
    "df_total['file'] = 'master_'+df_total['Year'].astype(str)+'_'+df_total['Month']+'_'+df_total['Tribunal']+'.csv'"
   ]
  },
  {
   "cell_type": "code",
   "execution_count": 8,
   "id": "6c2a9879",
   "metadata": {},
   "outputs": [],
   "source": [
    "df2 = df.merge(df_total[['file', 'Total cases', 'Number of pages']], on='file', indicator=True, how='outer')"
   ]
  },
  {
   "cell_type": "code",
   "execution_count": 9,
   "id": "aad87efc",
   "metadata": {},
   "outputs": [
    {
     "data": {
      "text/plain": [
       "Index(['Year', 'Month', 'Tribunal', 'Total cases', 'Number of pages', 'file'], dtype='object')"
      ]
     },
     "execution_count": 9,
     "metadata": {},
     "output_type": "execute_result"
    }
   ],
   "source": [
    "df_total.columns"
   ]
  },
  {
   "cell_type": "code",
   "execution_count": 10,
   "id": "a64dcaad",
   "metadata": {},
   "outputs": [
    {
     "data": {
      "text/plain": [
       "both          744\n",
       "left_only       0\n",
       "right_only      0\n",
       "Name: _merge, dtype: int64"
      ]
     },
     "execution_count": 10,
     "metadata": {},
     "output_type": "execute_result"
    }
   ],
   "source": [
    "df2['_merge'].value_counts()"
   ]
  },
  {
   "cell_type": "code",
   "execution_count": 11,
   "id": "d0bbdfbe",
   "metadata": {},
   "outputs": [],
   "source": [
    "df2['in_total_cases'] = 0\n",
    "df2.loc[df2['_merge']=='both', 'in_total_cases'] = 1"
   ]
  },
  {
   "cell_type": "markdown",
   "id": "96ce9533",
   "metadata": {},
   "source": [
    "# Loading total number of cases scraped in master files"
   ]
  },
  {
   "cell_type": "code",
   "execution_count": 12,
   "id": "a423210b",
   "metadata": {},
   "outputs": [],
   "source": [
    "from os import walk"
   ]
  },
  {
   "cell_type": "code",
   "execution_count": 13,
   "id": "1fe9112c",
   "metadata": {},
   "outputs": [],
   "source": [
    "for _, _, f3 in walk('../Outputs/master'):\n",
    "    files = f3"
   ]
  },
  {
   "cell_type": "code",
   "execution_count": 14,
   "id": "911f4e36",
   "metadata": {},
   "outputs": [],
   "source": [
    "master_files = []\n",
    "for file in files:\n",
    "    if file[:6] == 'master':\n",
    "        master_files.append(file)"
   ]
  },
  {
   "cell_type": "code",
   "execution_count": 15,
   "id": "de3a67f4",
   "metadata": {},
   "outputs": [],
   "source": [
    "df2['number_cases_obtained'] = 0\n",
    "for file in master_files:\n",
    "    df_temp = pd.read_csv('../Outputs/master/'+file, encoding='latin1')\n",
    "    df2.loc[df2['file']==file, 'number_cases_obtained'] = len(df_temp)"
   ]
  },
  {
   "cell_type": "markdown",
   "id": "528ae363",
   "metadata": {},
   "source": [
    "# Tagging finished cases"
   ]
  },
  {
   "cell_type": "code",
   "execution_count": 16,
   "id": "8a16d09a",
   "metadata": {},
   "outputs": [],
   "source": [
    "df2['percentage_finished'] = 0\n",
    "df2.loc[df2['in_total_cases']==1, 'percentage_finished'] = df2['number_cases_obtained'] / df2['Total cases']"
   ]
  },
  {
   "cell_type": "code",
   "execution_count": 17,
   "id": "4e78ec10",
   "metadata": {},
   "outputs": [],
   "source": [
    "df2['finished'] = 0\n",
    "df2.loc[df2['percentage_finished']>=1, 'finished'] = 1"
   ]
  },
  {
   "cell_type": "code",
   "execution_count": 18,
   "id": "e4b1456a",
   "metadata": {},
   "outputs": [
    {
     "data": {
      "text/plain": [
       "744"
      ]
     },
     "execution_count": 18,
     "metadata": {},
     "output_type": "execute_result"
    }
   ],
   "source": [
    "len(df2)"
   ]
  },
  {
   "cell_type": "code",
   "execution_count": 19,
   "id": "e185e111",
   "metadata": {},
   "outputs": [
    {
     "data": {
      "text/plain": [
       "1    744\n",
       "Name: finished, dtype: int64"
      ]
     },
     "execution_count": 19,
     "metadata": {},
     "output_type": "execute_result"
    }
   ],
   "source": [
    "df2['finished'].value_counts()"
   ]
  },
  {
   "cell_type": "code",
   "execution_count": 20,
   "id": "1b959193",
   "metadata": {
    "scrolled": true
   },
   "outputs": [
    {
     "data": {
      "text/plain": [
       "0"
      ]
     },
     "execution_count": 20,
     "metadata": {},
     "output_type": "execute_result"
    }
   ],
   "source": [
    "len(df2[df2['percentage_finished']>1])"
   ]
  },
  {
   "cell_type": "code",
   "execution_count": 21,
   "id": "73f2e2ed",
   "metadata": {},
   "outputs": [
    {
     "data": {
      "text/html": [
       "<div>\n",
       "<style scoped>\n",
       "    .dataframe tbody tr th:only-of-type {\n",
       "        vertical-align: middle;\n",
       "    }\n",
       "\n",
       "    .dataframe tbody tr th {\n",
       "        vertical-align: top;\n",
       "    }\n",
       "\n",
       "    .dataframe thead th {\n",
       "        text-align: right;\n",
       "    }\n",
       "</style>\n",
       "<table border=\"1\" class=\"dataframe\">\n",
       "  <thead>\n",
       "    <tr style=\"text-align: right;\">\n",
       "      <th></th>\n",
       "      <th>file</th>\n",
       "      <th>year</th>\n",
       "      <th>month</th>\n",
       "      <th>tribunal</th>\n",
       "      <th>Total cases</th>\n",
       "      <th>Number of pages</th>\n",
       "      <th>_merge</th>\n",
       "      <th>in_total_cases</th>\n",
       "      <th>number_cases_obtained</th>\n",
       "      <th>percentage_finished</th>\n",
       "      <th>finished</th>\n",
       "    </tr>\n",
       "  </thead>\n",
       "  <tbody>\n",
       "  </tbody>\n",
       "</table>\n",
       "</div>"
      ],
      "text/plain": [
       "Empty DataFrame\n",
       "Columns: [file, year, month, tribunal, Total cases, Number of pages, _merge, in_total_cases, number_cases_obtained, percentage_finished, finished]\n",
       "Index: []"
      ]
     },
     "execution_count": 21,
     "metadata": {},
     "output_type": "execute_result"
    }
   ],
   "source": [
    "df2[(df2['finished']==0) | (df2['percentage_finished']>1)]"
   ]
  },
  {
   "cell_type": "markdown",
   "id": "5a7baf82",
   "metadata": {},
   "source": [
    "# Exporting"
   ]
  },
  {
   "cell_type": "code",
   "execution_count": 22,
   "id": "cfa8b6d8",
   "metadata": {},
   "outputs": [],
   "source": [
    "path = '../Progress reports/'\n",
    "df2.drop(columns=['_merge']).to_csv(path+'progress_master data tables.csv', index=False, encoding='latin1')"
   ]
  }
 ],
 "metadata": {
  "kernelspec": {
   "display_name": "Python 3 (ipykernel)",
   "language": "python",
   "name": "python3"
  },
  "language_info": {
   "codemirror_mode": {
    "name": "ipython",
    "version": 3
   },
   "file_extension": ".py",
   "mimetype": "text/x-python",
   "name": "python",
   "nbconvert_exporter": "python",
   "pygments_lexer": "ipython3",
   "version": "3.7.11"
  }
 },
 "nbformat": 4,
 "nbformat_minor": 5
}
