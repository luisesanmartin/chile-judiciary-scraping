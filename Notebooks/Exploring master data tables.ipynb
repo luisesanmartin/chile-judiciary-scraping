{
 "cells": [
  {
   "cell_type": "code",
   "execution_count": 1,
   "id": "6a97619a",
   "metadata": {},
   "outputs": [],
   "source": [
    "import pandas as pd\n",
    "import altair as alt\n",
    "from os import walk"
   ]
  },
  {
   "cell_type": "markdown",
   "id": "fb34fb44",
   "metadata": {},
   "source": [
    "## Reading files"
   ]
  },
  {
   "cell_type": "code",
   "execution_count": 2,
   "id": "02d2bd34",
   "metadata": {},
   "outputs": [],
   "source": [
    "for _, _, f3 in walk('../Outputs/master'):\n",
    "    files = f3"
   ]
  },
  {
   "cell_type": "code",
   "execution_count": 3,
   "id": "8f0fc366",
   "metadata": {},
   "outputs": [],
   "source": [
    "master_files = []\n",
    "for file in files:\n",
    "    if file[:6] == 'master':\n",
    "        master_files.append(file)"
   ]
  },
  {
   "cell_type": "code",
   "execution_count": 4,
   "id": "9e35ad24",
   "metadata": {},
   "outputs": [],
   "source": [
    "df = pd.DataFrame()\n",
    "for file in master_files:\n",
    "    df_temp = pd.read_csv('../Outputs/master/'+file, encoding='latin1')\n",
    "    df = df.append(df_temp, ignore_index=True)"
   ]
  },
  {
   "cell_type": "markdown",
   "id": "40663cb2",
   "metadata": {},
   "source": [
    "## Exploring the data"
   ]
  },
  {
   "cell_type": "markdown",
   "id": "c2e75cf8",
   "metadata": {},
   "source": [
    "Taking a glimpse:"
   ]
  },
  {
   "cell_type": "code",
   "execution_count": 5,
   "id": "164e3cc0",
   "metadata": {},
   "outputs": [
    {
     "data": {
      "text/html": [
       "<div>\n",
       "<style scoped>\n",
       "    .dataframe tbody tr th:only-of-type {\n",
       "        vertical-align: middle;\n",
       "    }\n",
       "\n",
       "    .dataframe tbody tr th {\n",
       "        vertical-align: top;\n",
       "    }\n",
       "\n",
       "    .dataframe thead th {\n",
       "        text-align: right;\n",
       "    }\n",
       "</style>\n",
       "<table border=\"1\" class=\"dataframe\">\n",
       "  <thead>\n",
       "    <tr style=\"text-align: right;\">\n",
       "      <th></th>\n",
       "      <th>Competencia</th>\n",
       "      <th>Corte</th>\n",
       "      <th>Tribunal</th>\n",
       "      <th>Page</th>\n",
       "      <th>Rol</th>\n",
       "      <th>Fecha</th>\n",
       "      <th>Caratulado</th>\n",
       "      <th>Unnamed: 7</th>\n",
       "      <th>Unnamed: 8</th>\n",
       "    </tr>\n",
       "  </thead>\n",
       "  <tbody>\n",
       "    <tr>\n",
       "      <th>0</th>\n",
       "      <td>Civil</td>\n",
       "      <td>C.A. de Santiago</td>\n",
       "      <td>10º Juzgado Civil de Santiago</td>\n",
       "      <td>1</td>\n",
       "      <td>C-10839-2016</td>\n",
       "      <td>29/04/2016</td>\n",
       "      <td>BANCO DE CHILE / CASTILLO</td>\n",
       "      <td>NaN</td>\n",
       "      <td>NaN</td>\n",
       "    </tr>\n",
       "    <tr>\n",
       "      <th>1</th>\n",
       "      <td>Civil</td>\n",
       "      <td>C.A. de Santiago</td>\n",
       "      <td>10º Juzgado Civil de Santiago</td>\n",
       "      <td>1</td>\n",
       "      <td>C-10850-2016</td>\n",
       "      <td>29/04/2016</td>\n",
       "      <td>COOPERATIVA DEL PERSONAL DE LAUNIVERSIDAD DE C...</td>\n",
       "      <td>NaN</td>\n",
       "      <td>NaN</td>\n",
       "    </tr>\n",
       "    <tr>\n",
       "      <th>2</th>\n",
       "      <td>Civil</td>\n",
       "      <td>C.A. de Santiago</td>\n",
       "      <td>10º Juzgado Civil de Santiago</td>\n",
       "      <td>1</td>\n",
       "      <td>C-10852-2016</td>\n",
       "      <td>29/04/2016</td>\n",
       "      <td>ISAPRE CONSALUD S A / CISTERNAS</td>\n",
       "      <td>NaN</td>\n",
       "      <td>NaN</td>\n",
       "    </tr>\n",
       "    <tr>\n",
       "      <th>3</th>\n",
       "      <td>Civil</td>\n",
       "      <td>C.A. de Santiago</td>\n",
       "      <td>10º Juzgado Civil de Santiago</td>\n",
       "      <td>1</td>\n",
       "      <td>C-10855-2016</td>\n",
       "      <td>29/04/2016</td>\n",
       "      <td>MATIC-KARD S.A. / DÍAZ</td>\n",
       "      <td>NaN</td>\n",
       "      <td>NaN</td>\n",
       "    </tr>\n",
       "    <tr>\n",
       "      <th>4</th>\n",
       "      <td>Civil</td>\n",
       "      <td>C.A. de Santiago</td>\n",
       "      <td>10º Juzgado Civil de Santiago</td>\n",
       "      <td>1</td>\n",
       "      <td>C-10863-2016</td>\n",
       "      <td>29/04/2016</td>\n",
       "      <td>MATIC-KARD S.A. / ARANCIBIA</td>\n",
       "      <td>NaN</td>\n",
       "      <td>NaN</td>\n",
       "    </tr>\n",
       "  </tbody>\n",
       "</table>\n",
       "</div>"
      ],
      "text/plain": [
       "  Competencia             Corte                       Tribunal  Page  \\\n",
       "0       Civil  C.A. de Santiago  10º Juzgado Civil de Santiago     1   \n",
       "1       Civil  C.A. de Santiago  10º Juzgado Civil de Santiago     1   \n",
       "2       Civil  C.A. de Santiago  10º Juzgado Civil de Santiago     1   \n",
       "3       Civil  C.A. de Santiago  10º Juzgado Civil de Santiago     1   \n",
       "4       Civil  C.A. de Santiago  10º Juzgado Civil de Santiago     1   \n",
       "\n",
       "            Rol       Fecha  \\\n",
       "0  C-10839-2016  29/04/2016   \n",
       "1  C-10850-2016  29/04/2016   \n",
       "2  C-10852-2016  29/04/2016   \n",
       "3  C-10855-2016  29/04/2016   \n",
       "4  C-10863-2016  29/04/2016   \n",
       "\n",
       "                                          Caratulado  Unnamed: 7  Unnamed: 8  \n",
       "0                          BANCO DE CHILE / CASTILLO         NaN         NaN  \n",
       "1  COOPERATIVA DEL PERSONAL DE LAUNIVERSIDAD DE C...         NaN         NaN  \n",
       "2                    ISAPRE CONSALUD S A / CISTERNAS         NaN         NaN  \n",
       "3                             MATIC-KARD S.A. / DÍAZ         NaN         NaN  \n",
       "4                        MATIC-KARD S.A. / ARANCIBIA         NaN         NaN  "
      ]
     },
     "execution_count": 5,
     "metadata": {},
     "output_type": "execute_result"
    }
   ],
   "source": [
    "df.head()"
   ]
  },
  {
   "cell_type": "markdown",
   "id": "a5342810",
   "metadata": {},
   "source": [
    "### Total obs:"
   ]
  },
  {
   "cell_type": "code",
   "execution_count": 6,
   "id": "a1ba262e",
   "metadata": {},
   "outputs": [
    {
     "name": "stdout",
     "output_type": "stream",
     "text": [
      "Total observations: 2130262\n"
     ]
    }
   ],
   "source": [
    "print('Total observations:', len(df))"
   ]
  },
  {
   "cell_type": "markdown",
   "id": "5e6d0dbd",
   "metadata": {},
   "source": [
    "We have 2,130,262 cases in total."
   ]
  },
  {
   "cell_type": "markdown",
   "id": "fd796922",
   "metadata": {},
   "source": [
    "### Column names:"
   ]
  },
  {
   "cell_type": "code",
   "execution_count": 7,
   "id": "d66fa9fa",
   "metadata": {},
   "outputs": [
    {
     "data": {
      "text/plain": [
       "['Competencia',\n",
       " 'Corte',\n",
       " 'Tribunal',\n",
       " 'Page',\n",
       " 'Rol',\n",
       " 'Fecha',\n",
       " 'Caratulado',\n",
       " 'Unnamed: 7',\n",
       " 'Unnamed: 8']"
      ]
     },
     "execution_count": 7,
     "metadata": {},
     "output_type": "execute_result"
    }
   ],
   "source": [
    "list(df.columns)"
   ]
  },
  {
   "cell_type": "code",
   "execution_count": 8,
   "id": "b5da41bd",
   "metadata": {},
   "outputs": [
    {
     "name": "stdout",
     "output_type": "stream",
     "text": [
      "Total number of columns: 9\n"
     ]
    }
   ],
   "source": [
    "print('Total number of columns:', len(df.columns))"
   ]
  },
  {
   "cell_type": "markdown",
   "id": "f5fe062a",
   "metadata": {},
   "source": [
    "### Columns `Unnamed: 7` and `Unnamed: 8`"
   ]
  },
  {
   "cell_type": "markdown",
   "id": "edcec355",
   "metadata": {},
   "source": [
    "There are two columns with names `Unnamed: 7` and `Unnamed: 8`. We'll explore these two:"
   ]
  },
  {
   "cell_type": "code",
   "execution_count": 9,
   "id": "34a2d15a",
   "metadata": {},
   "outputs": [
    {
     "data": {
      "text/plain": [
       "NaN    2130262\n",
       "Name: Unnamed: 7, dtype: int64"
      ]
     },
     "execution_count": 9,
     "metadata": {},
     "output_type": "execute_result"
    }
   ],
   "source": [
    "df['Unnamed: 7'].value_counts(dropna=False)"
   ]
  },
  {
   "cell_type": "code",
   "execution_count": 10,
   "id": "52f7ec98",
   "metadata": {},
   "outputs": [
    {
     "data": {
      "text/plain": [
       "count    0.0\n",
       "mean     NaN\n",
       "std      NaN\n",
       "min      NaN\n",
       "25%      NaN\n",
       "50%      NaN\n",
       "75%      NaN\n",
       "max      NaN\n",
       "Name: Unnamed: 7, dtype: float64"
      ]
     },
     "execution_count": 10,
     "metadata": {},
     "output_type": "execute_result"
    }
   ],
   "source": [
    "df['Unnamed: 7'].describe()"
   ]
  },
  {
   "cell_type": "code",
   "execution_count": 11,
   "id": "4f1f0043",
   "metadata": {},
   "outputs": [
    {
     "data": {
      "text/plain": [
       "NaN    2130262\n",
       "Name: Unnamed: 8, dtype: int64"
      ]
     },
     "execution_count": 11,
     "metadata": {},
     "output_type": "execute_result"
    }
   ],
   "source": [
    "df['Unnamed: 8'].value_counts(dropna=False)"
   ]
  },
  {
   "cell_type": "code",
   "execution_count": 12,
   "id": "59021c26",
   "metadata": {},
   "outputs": [
    {
     "data": {
      "text/plain": [
       "count    0.0\n",
       "mean     NaN\n",
       "std      NaN\n",
       "min      NaN\n",
       "25%      NaN\n",
       "50%      NaN\n",
       "75%      NaN\n",
       "max      NaN\n",
       "Name: Unnamed: 8, dtype: float64"
      ]
     },
     "execution_count": 12,
     "metadata": {},
     "output_type": "execute_result"
    }
   ],
   "source": [
    "df['Unnamed: 8'].describe()"
   ]
  },
  {
   "cell_type": "markdown",
   "id": "8aed9c2a",
   "metadata": {},
   "source": [
    "These columns contain only missing data. We'll drop them from this exploration."
   ]
  },
  {
   "cell_type": "code",
   "execution_count": 13,
   "id": "f91906d8",
   "metadata": {},
   "outputs": [],
   "source": [
    "df = df.drop(columns=['Unnamed: 7', 'Unnamed: 8'])"
   ]
  },
  {
   "cell_type": "code",
   "execution_count": 14,
   "id": "312f406c",
   "metadata": {},
   "outputs": [
    {
     "data": {
      "text/plain": [
       "['Competencia', 'Corte', 'Tribunal', 'Page', 'Rol', 'Fecha', 'Caratulado']"
      ]
     },
     "execution_count": 14,
     "metadata": {},
     "output_type": "execute_result"
    }
   ],
   "source": [
    "list(df.columns)"
   ]
  },
  {
   "cell_type": "code",
   "execution_count": 15,
   "id": "b2662389",
   "metadata": {},
   "outputs": [
    {
     "name": "stdout",
     "output_type": "stream",
     "text": [
      "Total number of columns: 7\n"
     ]
    }
   ],
   "source": [
    "print('Total number of columns:', len(df.columns))"
   ]
  },
  {
   "cell_type": "markdown",
   "id": "f3f95a0d",
   "metadata": {},
   "source": [
    "### Duplicated observations"
   ]
  },
  {
   "cell_type": "markdown",
   "id": "d10223d9",
   "metadata": {},
   "source": [
    "Checking duplicated rows:"
   ]
  },
  {
   "cell_type": "code",
   "execution_count": 16,
   "id": "6bfaefc2",
   "metadata": {},
   "outputs": [
    {
     "data": {
      "text/plain": [
       "0"
      ]
     },
     "execution_count": 16,
     "metadata": {},
     "output_type": "execute_result"
    }
   ],
   "source": [
    "df.duplicated(keep=False).sum()"
   ]
  },
  {
   "cell_type": "markdown",
   "id": "5ab20bdd",
   "metadata": {},
   "source": [
    "We don't have duplicated rows."
   ]
  },
  {
   "cell_type": "markdown",
   "id": "0261482b",
   "metadata": {},
   "source": [
    "Checking duplicated rows in `Tribunal` and `Rol`:"
   ]
  },
  {
   "cell_type": "code",
   "execution_count": 17,
   "id": "ab97f1ac",
   "metadata": {},
   "outputs": [
    {
     "data": {
      "text/plain": [
       "4552"
      ]
     },
     "execution_count": 17,
     "metadata": {},
     "output_type": "execute_result"
    }
   ],
   "source": [
    "df[['Tribunal', 'Rol']].duplicated(keep=False).sum()"
   ]
  },
  {
   "cell_type": "markdown",
   "id": "5a42a537",
   "metadata": {},
   "source": [
    "4,552 observations are duplicated in the values of `Tribunal` and `Rol`. This is probably due to some cases moving to a different page when a new query of the same month/tribunal is executed. We'll exclude the column `Pages` and check duplicates again to see if that's the case indeed."
   ]
  },
  {
   "cell_type": "code",
   "execution_count": 18,
   "id": "893afd6a",
   "metadata": {},
   "outputs": [
    {
     "data": {
      "text/plain": [
       "4552"
      ]
     },
     "execution_count": 18,
     "metadata": {},
     "output_type": "execute_result"
    }
   ],
   "source": [
    "df.drop(columns=['Page']).duplicated(keep=False).sum()"
   ]
  },
  {
   "cell_type": "markdown",
   "id": "7950adc4",
   "metadata": {},
   "source": [
    "This means that we have 4,552 cases that are duplicated in all column values except `Page`. We'll check what percentage of all observations are duplicated in all columns except `Page`."
   ]
  },
  {
   "cell_type": "code",
   "execution_count": 19,
   "id": "244dc900",
   "metadata": {},
   "outputs": [
    {
     "name": "stdout",
     "output_type": "stream",
     "text": [
      "Percentage of duplicated observations in all columns except \"Page\": 0.10928233240793854 %\n"
     ]
    }
   ],
   "source": [
    "print('Percentage of duplicated observations in all columns except \"Page\":', df.drop(columns=['Page']).duplicated(keep='first').sum()/len(df)*100, '%')"
   ]
  },
  {
   "cell_type": "markdown",
   "id": "bed20a27",
   "metadata": {},
   "source": [
    "Only 0.11% of rows are duplicated cases."
   ]
  },
  {
   "cell_type": "markdown",
   "id": "707548cf",
   "metadata": {},
   "source": [
    "As stated before, this is probably because these cases changed places with others in different pages when a new query for the same year/month/tribunal was executed."
   ]
  },
  {
   "cell_type": "markdown",
   "id": "d6c909e8",
   "metadata": {},
   "source": [
    "### Missing values:"
   ]
  },
  {
   "cell_type": "code",
   "execution_count": 20,
   "id": "e2f4aa37",
   "metadata": {
    "scrolled": true
   },
   "outputs": [
    {
     "name": "stdout",
     "output_type": "stream",
     "text": [
      "Checking missing values in column Competencia : 0\n",
      "Checking missing values in column Corte : 0\n",
      "Checking missing values in column Tribunal : 0\n",
      "Checking missing values in column Page : 0\n",
      "Checking missing values in column Rol : 0\n",
      "Checking missing values in column Fecha : 0\n",
      "Checking missing values in column Caratulado : 0\n"
     ]
    }
   ],
   "source": [
    "for col in df.columns:\n",
    "    print('Checking missing values in column', col, ':', (df['Corte'].isna() | df['Corte']=='').sum())"
   ]
  },
  {
   "cell_type": "markdown",
   "id": "ec977b08",
   "metadata": {},
   "source": [
    "None of the columns have missing values."
   ]
  },
  {
   "cell_type": "markdown",
   "id": "5a0037d0",
   "metadata": {},
   "source": [
    "### Tabulations:"
   ]
  },
  {
   "cell_type": "code",
   "execution_count": 21,
   "id": "5610f6a9",
   "metadata": {},
   "outputs": [
    {
     "data": {
      "text/plain": [
       "Civil    2130262\n",
       "Name: Competencia, dtype: int64"
      ]
     },
     "execution_count": 21,
     "metadata": {},
     "output_type": "execute_result"
    }
   ],
   "source": [
    "df['Competencia'].value_counts(dropna=False)"
   ]
  },
  {
   "cell_type": "code",
   "execution_count": 22,
   "id": "a4947113",
   "metadata": {},
   "outputs": [
    {
     "data": {
      "text/plain": [
       "C.A. de Santiago    2130262\n",
       "Name: Corte, dtype: int64"
      ]
     },
     "execution_count": 22,
     "metadata": {},
     "output_type": "execute_result"
    }
   ],
   "source": [
    "df['Corte'].value_counts(dropna=False)"
   ]
  },
  {
   "cell_type": "markdown",
   "id": "a1038979",
   "metadata": {},
   "source": [
    "Columns `Competencia` and `Corte` have only one value as expected, and no missings."
   ]
  },
  {
   "cell_type": "markdown",
   "id": "cc9deff7",
   "metadata": {},
   "source": [
    "## Plots"
   ]
  },
  {
   "cell_type": "code",
   "execution_count": 23,
   "id": "08863b5d",
   "metadata": {},
   "outputs": [],
   "source": [
    "def collapse(df, col):\n",
    "    \n",
    "    new_df = df[col].value_counts(dropna=False).reset_index().\\\n",
    "             rename(columns={'index': col, col: 'Cases'})\n",
    "\n",
    "    return new_df"
   ]
  },
  {
   "cell_type": "markdown",
   "id": "363a94e6",
   "metadata": {},
   "source": [
    "### Number of cases by Tribunal"
   ]
  },
  {
   "cell_type": "code",
   "execution_count": 24,
   "id": "b360815e",
   "metadata": {},
   "outputs": [
    {
     "data": {
      "text/html": [
       "\n",
       "<div id=\"altair-viz-08aaa3d2e3e749158936f3d10d188736\"></div>\n",
       "<script type=\"text/javascript\">\n",
       "  (function(spec, embedOpt){\n",
       "    let outputDiv = document.currentScript.previousElementSibling;\n",
       "    if (outputDiv.id !== \"altair-viz-08aaa3d2e3e749158936f3d10d188736\") {\n",
       "      outputDiv = document.getElementById(\"altair-viz-08aaa3d2e3e749158936f3d10d188736\");\n",
       "    }\n",
       "    const paths = {\n",
       "      \"vega\": \"https://cdn.jsdelivr.net/npm//vega@5?noext\",\n",
       "      \"vega-lib\": \"https://cdn.jsdelivr.net/npm//vega-lib?noext\",\n",
       "      \"vega-lite\": \"https://cdn.jsdelivr.net/npm//vega-lite@4.8.1?noext\",\n",
       "      \"vega-embed\": \"https://cdn.jsdelivr.net/npm//vega-embed@6?noext\",\n",
       "    };\n",
       "\n",
       "    function loadScript(lib) {\n",
       "      return new Promise(function(resolve, reject) {\n",
       "        var s = document.createElement('script');\n",
       "        s.src = paths[lib];\n",
       "        s.async = true;\n",
       "        s.onload = () => resolve(paths[lib]);\n",
       "        s.onerror = () => reject(`Error loading script: ${paths[lib]}`);\n",
       "        document.getElementsByTagName(\"head\")[0].appendChild(s);\n",
       "      });\n",
       "    }\n",
       "\n",
       "    function showError(err) {\n",
       "      outputDiv.innerHTML = `<div class=\"error\" style=\"color:red;\">${err}</div>`;\n",
       "      throw err;\n",
       "    }\n",
       "\n",
       "    function displayChart(vegaEmbed) {\n",
       "      vegaEmbed(outputDiv, spec, embedOpt)\n",
       "        .catch(err => showError(`Javascript Error: ${err.message}<br>This usually means there's a typo in your chart specification. See the javascript console for the full traceback.`));\n",
       "    }\n",
       "\n",
       "    if(typeof define === \"function\" && define.amd) {\n",
       "      requirejs.config({paths});\n",
       "      require([\"vega-embed\"], displayChart, err => showError(`Error loading script: ${err.message}`));\n",
       "    } else if (typeof vegaEmbed === \"function\") {\n",
       "      displayChart(vegaEmbed);\n",
       "    } else {\n",
       "      loadScript(\"vega\")\n",
       "        .then(() => loadScript(\"vega-lite\"))\n",
       "        .then(() => loadScript(\"vega-embed\"))\n",
       "        .catch(showError)\n",
       "        .then(() => displayChart(vegaEmbed));\n",
       "    }\n",
       "  })({\"config\": {\"view\": {\"continuousWidth\": 400, \"continuousHeight\": 300}}, \"data\": {\"name\": \"data-779b9aa0f796be01628d3f72c64e2572\"}, \"mark\": \"bar\", \"encoding\": {\"x\": {\"type\": \"quantitative\", \"field\": \"Cases\"}, \"y\": {\"type\": \"nominal\", \"field\": \"Tribunal\"}}, \"title\": \"Number of Cases by Tribunal\", \"$schema\": \"https://vega.github.io/schema/vega-lite/v4.8.1.json\", \"datasets\": {\"data-779b9aa0f796be01628d3f72c64e2572\": [{\"Tribunal\": \"2\\u00ba Juzgado Civil de Santiago\", \"Cases\": 70927}, {\"Tribunal\": \"29\\u00ba Juzgado Civil de Santiago\", \"Cases\": 70566}, {\"Tribunal\": \"17\\u00ba Juzgado Civil de Santiago\", \"Cases\": 70540}, {\"Tribunal\": \"1\\u00ba Juzgado Civil de Santiago\", \"Cases\": 70537}, {\"Tribunal\": \"5\\u00ba Juzgado Civil de Santiago\", \"Cases\": 70533}, {\"Tribunal\": \"4\\u00ba Juzgado Civil de Santiago\", \"Cases\": 70522}, {\"Tribunal\": \"14\\u00ba Juzgado Civil de Santiago\", \"Cases\": 70463}, {\"Tribunal\": \"21\\u00ba Juzgado Civil de Santiago\", \"Cases\": 70460}, {\"Tribunal\": \"25\\u00ba Juzgado Civil de Santiago\", \"Cases\": 70365}, {\"Tribunal\": \"18\\u00ba Juzgado Civil de Santiago\", \"Cases\": 70346}, {\"Tribunal\": \"15\\u00ba Juzgado Civil de Santiago\", \"Cases\": 70343}, {\"Tribunal\": \"3\\u00ba Juzgado Civil de Santiago\", \"Cases\": 70332}, {\"Tribunal\": \"12\\u00ba Juzgado Civil de Santiago\", \"Cases\": 70321}, {\"Tribunal\": \"16\\u00ba Juzgado Civil de Santiago\", \"Cases\": 70319}, {\"Tribunal\": \"24\\u00ba Juzgado Civil de Santiago\", \"Cases\": 70312}, {\"Tribunal\": \"30\\u00ba Juzgado Civil de Santiago\", \"Cases\": 70309}, {\"Tribunal\": \"10\\u00ba Juzgado Civil de Santiago\", \"Cases\": 70298}, {\"Tribunal\": \"19\\u00ba Juzgado Civil de Santiago\", \"Cases\": 70281}, {\"Tribunal\": \"28\\u00ba Juzgado Civil de Santiago\", \"Cases\": 70278}, {\"Tribunal\": \"9\\u00ba Juzgado Civil de Santiago\", \"Cases\": 70254}, {\"Tribunal\": \"7\\u00ba Juzgado Civil de Santiago\", \"Cases\": 70228}, {\"Tribunal\": \"11\\u00ba Juzgado Civil de Santiago\", \"Cases\": 70155}, {\"Tribunal\": \"26\\u00ba Juzgado Civil de Santiago\", \"Cases\": 70150}, {\"Tribunal\": \"22\\u00ba Juzgado Civil de Santiago\", \"Cases\": 70134}, {\"Tribunal\": \"23\\u00ba Juzgado Civil de Santiago\", \"Cases\": 70059}, {\"Tribunal\": \"6\\u00ba Juzgado Civil de Santiago\", \"Cases\": 70024}, {\"Tribunal\": \"20\\u00ba Juzgado Civil de Santiago\", \"Cases\": 70009}, {\"Tribunal\": \"13\\u00ba Juzgado Civil de Santiago\", \"Cases\": 69631}, {\"Tribunal\": \"8\\u00ba Juzgado Civil de Santiago\", \"Cases\": 69630}, {\"Tribunal\": \"27\\u00ba Juzgado Civil de Santiago\", \"Cases\": 69091}, {\"Tribunal\": \"Juzgado de Letras de Colina\", \"Cases\": 22845}]}}, {\"mode\": \"vega-lite\"});\n",
       "</script>"
      ],
      "text/plain": [
       "alt.Chart(...)"
      ]
     },
     "execution_count": 24,
     "metadata": {},
     "output_type": "execute_result"
    }
   ],
   "source": [
    "df_temp = collapse(df, 'Tribunal')\n",
    "\n",
    "alt.Chart(df_temp).mark_bar().encode(\n",
    "    x = 'Cases:Q',\n",
    "    y = 'Tribunal:N'\n",
    ").properties(\n",
    "    title = 'Number of Cases by Tribunal'\n",
    ")"
   ]
  },
  {
   "cell_type": "markdown",
   "id": "c2e8559e",
   "metadata": {},
   "source": [
    "All Tribunals have around 70,000 cases, except `Juzgado de Letras de Colina`."
   ]
  },
  {
   "cell_type": "code",
   "execution_count": 25,
   "id": "60700130",
   "metadata": {},
   "outputs": [],
   "source": [
    "def horizontal_bar_chart(df, col, font_size=12, width=100):\n",
    "    \n",
    "    df_temp = collapse(df, col)\n",
    "    \n",
    "    bars = alt.Chart(df_temp).mark_bar().encode(\n",
    "        y = 'Cases:Q',\n",
    "        x = col+':O'\n",
    "    ).properties(\n",
    "        width = width\n",
    "    )\n",
    "    text = bars.mark_text(\n",
    "        align='center',\n",
    "        dy=-8,\n",
    "        fontSize = font_size\n",
    "    ).encode(\n",
    "        text='Cases:Q'\n",
    "    )\n",
    "\n",
    "    return bars+text"
   ]
  },
  {
   "cell_type": "markdown",
   "id": "b01a78bb",
   "metadata": {},
   "source": [
    "### Number of cases by Year"
   ]
  },
  {
   "cell_type": "code",
   "execution_count": 26,
   "id": "de5ea5fd",
   "metadata": {},
   "outputs": [],
   "source": [
    "df['Year'] = df['Fecha'].apply(lambda x: x[-4:])"
   ]
  },
  {
   "cell_type": "code",
   "execution_count": 27,
   "id": "19e1bb1d",
   "metadata": {},
   "outputs": [
    {
     "data": {
      "text/html": [
       "\n",
       "<div id=\"altair-viz-8607e55998ce4fd8942550978c3a51ad\"></div>\n",
       "<script type=\"text/javascript\">\n",
       "  (function(spec, embedOpt){\n",
       "    let outputDiv = document.currentScript.previousElementSibling;\n",
       "    if (outputDiv.id !== \"altair-viz-8607e55998ce4fd8942550978c3a51ad\") {\n",
       "      outputDiv = document.getElementById(\"altair-viz-8607e55998ce4fd8942550978c3a51ad\");\n",
       "    }\n",
       "    const paths = {\n",
       "      \"vega\": \"https://cdn.jsdelivr.net/npm//vega@5?noext\",\n",
       "      \"vega-lib\": \"https://cdn.jsdelivr.net/npm//vega-lib?noext\",\n",
       "      \"vega-lite\": \"https://cdn.jsdelivr.net/npm//vega-lite@4.8.1?noext\",\n",
       "      \"vega-embed\": \"https://cdn.jsdelivr.net/npm//vega-embed@6?noext\",\n",
       "    };\n",
       "\n",
       "    function loadScript(lib) {\n",
       "      return new Promise(function(resolve, reject) {\n",
       "        var s = document.createElement('script');\n",
       "        s.src = paths[lib];\n",
       "        s.async = true;\n",
       "        s.onload = () => resolve(paths[lib]);\n",
       "        s.onerror = () => reject(`Error loading script: ${paths[lib]}`);\n",
       "        document.getElementsByTagName(\"head\")[0].appendChild(s);\n",
       "      });\n",
       "    }\n",
       "\n",
       "    function showError(err) {\n",
       "      outputDiv.innerHTML = `<div class=\"error\" style=\"color:red;\">${err}</div>`;\n",
       "      throw err;\n",
       "    }\n",
       "\n",
       "    function displayChart(vegaEmbed) {\n",
       "      vegaEmbed(outputDiv, spec, embedOpt)\n",
       "        .catch(err => showError(`Javascript Error: ${err.message}<br>This usually means there's a typo in your chart specification. See the javascript console for the full traceback.`));\n",
       "    }\n",
       "\n",
       "    if(typeof define === \"function\" && define.amd) {\n",
       "      requirejs.config({paths});\n",
       "      require([\"vega-embed\"], displayChart, err => showError(`Error loading script: ${err.message}`));\n",
       "    } else if (typeof vegaEmbed === \"function\") {\n",
       "      displayChart(vegaEmbed);\n",
       "    } else {\n",
       "      loadScript(\"vega\")\n",
       "        .then(() => loadScript(\"vega-lite\"))\n",
       "        .then(() => loadScript(\"vega-embed\"))\n",
       "        .catch(showError)\n",
       "        .then(() => displayChart(vegaEmbed));\n",
       "    }\n",
       "  })({\"config\": {\"view\": {\"continuousWidth\": 400, \"continuousHeight\": 300}}, \"layer\": [{\"mark\": \"bar\", \"encoding\": {\"x\": {\"type\": \"ordinal\", \"field\": \"Year\"}, \"y\": {\"type\": \"quantitative\", \"field\": \"Cases\"}}, \"width\": 180}, {\"mark\": {\"type\": \"text\", \"align\": \"center\", \"dy\": -8, \"fontSize\": 12}, \"encoding\": {\"text\": {\"type\": \"quantitative\", \"field\": \"Cases\"}, \"x\": {\"type\": \"ordinal\", \"field\": \"Year\"}, \"y\": {\"type\": \"quantitative\", \"field\": \"Cases\"}}, \"width\": 180}], \"data\": {\"name\": \"data-545dfcfc2a5bf1d915eb596e5b3228de\"}, \"title\": \"Number of Cases by Year\", \"$schema\": \"https://vega.github.io/schema/vega-lite/v4.8.1.json\", \"datasets\": {\"data-545dfcfc2a5bf1d915eb596e5b3228de\": [{\"Year\": \"2017\", \"Cases\": 1150037}, {\"Year\": \"2016\", \"Cases\": 980225}]}}, {\"mode\": \"vega-lite\"});\n",
       "</script>"
      ],
      "text/plain": [
       "alt.LayerChart(...)"
      ]
     },
     "execution_count": 27,
     "metadata": {},
     "output_type": "execute_result"
    }
   ],
   "source": [
    "horizontal_bar_chart(df, 'Year', width=180).properties(\n",
    "    title = 'Number of Cases by Year'\n",
    ")"
   ]
  },
  {
   "cell_type": "markdown",
   "id": "65f3c02a",
   "metadata": {},
   "source": [
    "2017 had an increase in the number of cases.\n",
    "\n",
    "Other than the year from column `Fecha`, there is also a year in `Rol` column. We'll name this `Year2`."
   ]
  },
  {
   "cell_type": "code",
   "execution_count": 28,
   "id": "07f50a8a",
   "metadata": {},
   "outputs": [],
   "source": [
    "df['Year2'] = df['Rol'].apply(lambda x: x[-4:])"
   ]
  },
  {
   "cell_type": "code",
   "execution_count": 29,
   "id": "0c5edfaf",
   "metadata": {},
   "outputs": [
    {
     "data": {
      "text/html": [
       "\n",
       "<div id=\"altair-viz-c7f20697228c4b54b89e03af99e6ab92\"></div>\n",
       "<script type=\"text/javascript\">\n",
       "  (function(spec, embedOpt){\n",
       "    let outputDiv = document.currentScript.previousElementSibling;\n",
       "    if (outputDiv.id !== \"altair-viz-c7f20697228c4b54b89e03af99e6ab92\") {\n",
       "      outputDiv = document.getElementById(\"altair-viz-c7f20697228c4b54b89e03af99e6ab92\");\n",
       "    }\n",
       "    const paths = {\n",
       "      \"vega\": \"https://cdn.jsdelivr.net/npm//vega@5?noext\",\n",
       "      \"vega-lib\": \"https://cdn.jsdelivr.net/npm//vega-lib?noext\",\n",
       "      \"vega-lite\": \"https://cdn.jsdelivr.net/npm//vega-lite@4.8.1?noext\",\n",
       "      \"vega-embed\": \"https://cdn.jsdelivr.net/npm//vega-embed@6?noext\",\n",
       "    };\n",
       "\n",
       "    function loadScript(lib) {\n",
       "      return new Promise(function(resolve, reject) {\n",
       "        var s = document.createElement('script');\n",
       "        s.src = paths[lib];\n",
       "        s.async = true;\n",
       "        s.onload = () => resolve(paths[lib]);\n",
       "        s.onerror = () => reject(`Error loading script: ${paths[lib]}`);\n",
       "        document.getElementsByTagName(\"head\")[0].appendChild(s);\n",
       "      });\n",
       "    }\n",
       "\n",
       "    function showError(err) {\n",
       "      outputDiv.innerHTML = `<div class=\"error\" style=\"color:red;\">${err}</div>`;\n",
       "      throw err;\n",
       "    }\n",
       "\n",
       "    function displayChart(vegaEmbed) {\n",
       "      vegaEmbed(outputDiv, spec, embedOpt)\n",
       "        .catch(err => showError(`Javascript Error: ${err.message}<br>This usually means there's a typo in your chart specification. See the javascript console for the full traceback.`));\n",
       "    }\n",
       "\n",
       "    if(typeof define === \"function\" && define.amd) {\n",
       "      requirejs.config({paths});\n",
       "      require([\"vega-embed\"], displayChart, err => showError(`Error loading script: ${err.message}`));\n",
       "    } else if (typeof vegaEmbed === \"function\") {\n",
       "      displayChart(vegaEmbed);\n",
       "    } else {\n",
       "      loadScript(\"vega\")\n",
       "        .then(() => loadScript(\"vega-lite\"))\n",
       "        .then(() => loadScript(\"vega-embed\"))\n",
       "        .catch(showError)\n",
       "        .then(() => displayChart(vegaEmbed));\n",
       "    }\n",
       "  })({\"config\": {\"view\": {\"continuousWidth\": 400, \"continuousHeight\": 300}}, \"layer\": [{\"mark\": \"bar\", \"encoding\": {\"x\": {\"type\": \"ordinal\", \"field\": \"Year2\"}, \"y\": {\"type\": \"quantitative\", \"field\": \"Cases\"}}, \"width\": 700}, {\"mark\": {\"type\": \"text\", \"align\": \"center\", \"dy\": -8, \"fontSize\": 11}, \"encoding\": {\"text\": {\"type\": \"quantitative\", \"field\": \"Cases\"}, \"x\": {\"type\": \"ordinal\", \"field\": \"Year2\"}, \"y\": {\"type\": \"quantitative\", \"field\": \"Cases\"}}, \"width\": 700}], \"data\": {\"name\": \"data-dbc1c08c75611a0643456805682345ea\"}, \"title\": \"Number of Cases by Year (from \\\"Rol\\\")\", \"$schema\": \"https://vega.github.io/schema/vega-lite/v4.8.1.json\", \"datasets\": {\"data-dbc1c08c75611a0643456805682345ea\": [{\"Year2\": \"2017\", \"Cases\": 1149896}, {\"Year2\": \"2016\", \"Cases\": 980116}, {\"Year2\": \"1984\", \"Cases\": 21}, {\"Year2\": \"1982\", \"Cases\": 21}, {\"Year2\": \"1986\", \"Cases\": 18}, {\"Year2\": \"1987\", \"Cases\": 17}, {\"Year2\": \"1991\", \"Cases\": 13}, {\"Year2\": \"1988\", \"Cases\": 13}, {\"Year2\": \"1983\", \"Cases\": 12}, {\"Year2\": \"1981\", \"Cases\": 11}, {\"Year2\": \"1985\", \"Cases\": 9}, {\"Year2\": \"1990\", \"Cases\": 8}, {\"Year2\": \"1989\", \"Cases\": 8}, {\"Year2\": \"1997\", \"Cases\": 6}, {\"Year2\": \"2000\", \"Cases\": 6}, {\"Year2\": \"1980\", \"Cases\": 6}, {\"Year2\": \"1975\", \"Cases\": 5}, {\"Year2\": \"2003\", \"Cases\": 5}, {\"Year2\": \"1978\", \"Cases\": 5}, {\"Year2\": \"2001\", \"Cases\": 4}, {\"Year2\": \"1979\", \"Cases\": 4}, {\"Year2\": \"1955\", \"Cases\": 3}, {\"Year2\": \"2006\", \"Cases\": 3}, {\"Year2\": \"1996\", \"Cases\": 3}, {\"Year2\": \"1977\", \"Cases\": 3}, {\"Year2\": \"1962\", \"Cases\": 3}, {\"Year2\": \"1967\", \"Cases\": 3}, {\"Year2\": \"1973\", \"Cases\": 3}, {\"Year2\": \"1969\", \"Cases\": 3}, {\"Year2\": \"1951\", \"Cases\": 2}, {\"Year2\": \"2004\", \"Cases\": 2}, {\"Year2\": \"2002\", \"Cases\": 2}, {\"Year2\": \"1970\", \"Cases\": 2}, {\"Year2\": \"1968\", \"Cases\": 2}, {\"Year2\": \"1953\", \"Cases\": 2}, {\"Year2\": \"1999\", \"Cases\": 2}, {\"Year2\": \"1998\", \"Cases\": 2}, {\"Year2\": \"1993\", \"Cases\": 2}, {\"Year2\": \"1957\", \"Cases\": 2}, {\"Year2\": \"1992\", \"Cases\": 2}, {\"Year2\": \"1972\", \"Cases\": 1}, {\"Year2\": \"2007\", \"Cases\": 1}, {\"Year2\": \"1971\", \"Cases\": 1}, {\"Year2\": \"1942\", \"Cases\": 1}, {\"Year2\": \"1947\", \"Cases\": 1}, {\"Year2\": \"1959\", \"Cases\": 1}, {\"Year2\": \"1994\", \"Cases\": 1}, {\"Year2\": \"1956\", \"Cases\": 1}, {\"Year2\": \"1961\", \"Cases\": 1}, {\"Year2\": \"1976\", \"Cases\": 1}, {\"Year2\": \"1950\", \"Cases\": 1}, {\"Year2\": \"1960\", \"Cases\": 1}]}}, {\"mode\": \"vega-lite\"});\n",
       "</script>"
      ],
      "text/plain": [
       "alt.LayerChart(...)"
      ]
     },
     "execution_count": 29,
     "metadata": {},
     "output_type": "execute_result"
    }
   ],
   "source": [
    "horizontal_bar_chart(df, 'Year2', font_size=11, width=700).properties(\n",
    "    title = 'Number of Cases by Year (from \"Rol\")'\n",
    ")"
   ]
  },
  {
   "cell_type": "markdown",
   "id": "efe6d274",
   "metadata": {},
   "source": [
    "The great majority of cases come from 2016 and 2017, though a few of them have a year from decades before. Perhaps the year in `Rol` is the year when the case began whereas the year in `Fecha` is when the final result was delivered?"
   ]
  },
  {
   "cell_type": "code",
   "execution_count": 30,
   "id": "d9d3cfcf",
   "metadata": {},
   "outputs": [
    {
     "name": "stdout",
     "output_type": "stream",
     "text": [
      "Number of cases with year (from \"Rol\") before 2016: 250\n"
     ]
    }
   ],
   "source": [
    "print('Number of cases with year (from \"Rol\") before 2016:', len(df[df['Year2'].astype('int')<2016]))"
   ]
  },
  {
   "cell_type": "code",
   "execution_count": 31,
   "id": "475c7f5f",
   "metadata": {},
   "outputs": [
    {
     "name": "stdout",
     "output_type": "stream",
     "text": [
      "Proportion of cases with year (from \"Rol\") before 2016: 0.00011735645662364535\n"
     ]
    }
   ],
   "source": [
    "print('Proportion of cases with year (from \"Rol\") before 2016:', len(df[df['Year2'].astype('int')<2016])/len(df))"
   ]
  },
  {
   "cell_type": "markdown",
   "id": "9eaafa3a",
   "metadata": {},
   "source": [
    "### Number of cases by month"
   ]
  },
  {
   "cell_type": "code",
   "execution_count": 32,
   "id": "e5f47d64",
   "metadata": {},
   "outputs": [],
   "source": [
    "df['Month'] = df['Fecha'].apply(lambda x: int(x.split('/')[1]))"
   ]
  },
  {
   "cell_type": "code",
   "execution_count": 33,
   "id": "4f477bad",
   "metadata": {},
   "outputs": [
    {
     "data": {
      "text/html": [
       "\n",
       "<div id=\"altair-viz-a6b8f40b80ca40bfa87f03d3898ece5e\"></div>\n",
       "<script type=\"text/javascript\">\n",
       "  (function(spec, embedOpt){\n",
       "    let outputDiv = document.currentScript.previousElementSibling;\n",
       "    if (outputDiv.id !== \"altair-viz-a6b8f40b80ca40bfa87f03d3898ece5e\") {\n",
       "      outputDiv = document.getElementById(\"altair-viz-a6b8f40b80ca40bfa87f03d3898ece5e\");\n",
       "    }\n",
       "    const paths = {\n",
       "      \"vega\": \"https://cdn.jsdelivr.net/npm//vega@5?noext\",\n",
       "      \"vega-lib\": \"https://cdn.jsdelivr.net/npm//vega-lib?noext\",\n",
       "      \"vega-lite\": \"https://cdn.jsdelivr.net/npm//vega-lite@4.8.1?noext\",\n",
       "      \"vega-embed\": \"https://cdn.jsdelivr.net/npm//vega-embed@6?noext\",\n",
       "    };\n",
       "\n",
       "    function loadScript(lib) {\n",
       "      return new Promise(function(resolve, reject) {\n",
       "        var s = document.createElement('script');\n",
       "        s.src = paths[lib];\n",
       "        s.async = true;\n",
       "        s.onload = () => resolve(paths[lib]);\n",
       "        s.onerror = () => reject(`Error loading script: ${paths[lib]}`);\n",
       "        document.getElementsByTagName(\"head\")[0].appendChild(s);\n",
       "      });\n",
       "    }\n",
       "\n",
       "    function showError(err) {\n",
       "      outputDiv.innerHTML = `<div class=\"error\" style=\"color:red;\">${err}</div>`;\n",
       "      throw err;\n",
       "    }\n",
       "\n",
       "    function displayChart(vegaEmbed) {\n",
       "      vegaEmbed(outputDiv, spec, embedOpt)\n",
       "        .catch(err => showError(`Javascript Error: ${err.message}<br>This usually means there's a typo in your chart specification. See the javascript console for the full traceback.`));\n",
       "    }\n",
       "\n",
       "    if(typeof define === \"function\" && define.amd) {\n",
       "      requirejs.config({paths});\n",
       "      require([\"vega-embed\"], displayChart, err => showError(`Error loading script: ${err.message}`));\n",
       "    } else if (typeof vegaEmbed === \"function\") {\n",
       "      displayChart(vegaEmbed);\n",
       "    } else {\n",
       "      loadScript(\"vega\")\n",
       "        .then(() => loadScript(\"vega-lite\"))\n",
       "        .then(() => loadScript(\"vega-embed\"))\n",
       "        .catch(showError)\n",
       "        .then(() => displayChart(vegaEmbed));\n",
       "    }\n",
       "  })({\"config\": {\"view\": {\"continuousWidth\": 400, \"continuousHeight\": 300}}, \"layer\": [{\"mark\": \"bar\", \"encoding\": {\"x\": {\"type\": \"ordinal\", \"field\": \"Month\"}, \"y\": {\"type\": \"quantitative\", \"field\": \"Cases\"}}, \"width\": 700}, {\"mark\": {\"type\": \"text\", \"align\": \"center\", \"dy\": -8, \"fontSize\": 11}, \"encoding\": {\"text\": {\"type\": \"quantitative\", \"field\": \"Cases\"}, \"x\": {\"type\": \"ordinal\", \"field\": \"Month\"}, \"y\": {\"type\": \"quantitative\", \"field\": \"Cases\"}}, \"width\": 700}], \"data\": {\"name\": \"data-5179c98db406ec1a3d2948534d19c713\"}, \"title\": \"Number of Cases by Month\", \"$schema\": \"https://vega.github.io/schema/vega-lite/v4.8.1.json\", \"datasets\": {\"data-5179c98db406ec1a3d2948534d19c713\": [{\"Month\": 8, \"Cases\": 239412}, {\"Month\": 10, \"Cases\": 208234}, {\"Month\": 7, \"Cases\": 206107}, {\"Month\": 5, \"Cases\": 181275}, {\"Month\": 6, \"Cases\": 179734}, {\"Month\": 11, \"Cases\": 179492}, {\"Month\": 9, \"Cases\": 177338}, {\"Month\": 3, \"Cases\": 163993}, {\"Month\": 1, \"Cases\": 157396}, {\"Month\": 4, \"Cases\": 153641}, {\"Month\": 12, \"Cases\": 150756}, {\"Month\": 2, \"Cases\": 132884}]}}, {\"mode\": \"vega-lite\"});\n",
       "</script>"
      ],
      "text/plain": [
       "alt.LayerChart(...)"
      ]
     },
     "execution_count": 33,
     "metadata": {},
     "output_type": "execute_result"
    }
   ],
   "source": [
    "horizontal_bar_chart(df, 'Month', font_size=11, width=700).properties(\n",
    "    title = 'Number of Cases by Month'\n",
    ")"
   ]
  },
  {
   "cell_type": "code",
   "execution_count": 34,
   "id": "a941ad73",
   "metadata": {},
   "outputs": [],
   "source": [
    "df['day'] = df['Fecha'].apply(lambda x: int(x.split('/')[0]))"
   ]
  },
  {
   "cell_type": "markdown",
   "id": "e2ccf8b9",
   "metadata": {},
   "source": [
    "### Number of cases by day"
   ]
  },
  {
   "cell_type": "code",
   "execution_count": 35,
   "id": "b09cefa4",
   "metadata": {},
   "outputs": [
    {
     "data": {
      "text/html": [
       "\n",
       "<div id=\"altair-viz-6e61e34facf1438db4af09f4dc79346e\"></div>\n",
       "<script type=\"text/javascript\">\n",
       "  (function(spec, embedOpt){\n",
       "    let outputDiv = document.currentScript.previousElementSibling;\n",
       "    if (outputDiv.id !== \"altair-viz-6e61e34facf1438db4af09f4dc79346e\") {\n",
       "      outputDiv = document.getElementById(\"altair-viz-6e61e34facf1438db4af09f4dc79346e\");\n",
       "    }\n",
       "    const paths = {\n",
       "      \"vega\": \"https://cdn.jsdelivr.net/npm//vega@5?noext\",\n",
       "      \"vega-lib\": \"https://cdn.jsdelivr.net/npm//vega-lib?noext\",\n",
       "      \"vega-lite\": \"https://cdn.jsdelivr.net/npm//vega-lite@4.8.1?noext\",\n",
       "      \"vega-embed\": \"https://cdn.jsdelivr.net/npm//vega-embed@6?noext\",\n",
       "    };\n",
       "\n",
       "    function loadScript(lib) {\n",
       "      return new Promise(function(resolve, reject) {\n",
       "        var s = document.createElement('script');\n",
       "        s.src = paths[lib];\n",
       "        s.async = true;\n",
       "        s.onload = () => resolve(paths[lib]);\n",
       "        s.onerror = () => reject(`Error loading script: ${paths[lib]}`);\n",
       "        document.getElementsByTagName(\"head\")[0].appendChild(s);\n",
       "      });\n",
       "    }\n",
       "\n",
       "    function showError(err) {\n",
       "      outputDiv.innerHTML = `<div class=\"error\" style=\"color:red;\">${err}</div>`;\n",
       "      throw err;\n",
       "    }\n",
       "\n",
       "    function displayChart(vegaEmbed) {\n",
       "      vegaEmbed(outputDiv, spec, embedOpt)\n",
       "        .catch(err => showError(`Javascript Error: ${err.message}<br>This usually means there's a typo in your chart specification. See the javascript console for the full traceback.`));\n",
       "    }\n",
       "\n",
       "    if(typeof define === \"function\" && define.amd) {\n",
       "      requirejs.config({paths});\n",
       "      require([\"vega-embed\"], displayChart, err => showError(`Error loading script: ${err.message}`));\n",
       "    } else if (typeof vegaEmbed === \"function\") {\n",
       "      displayChart(vegaEmbed);\n",
       "    } else {\n",
       "      loadScript(\"vega\")\n",
       "        .then(() => loadScript(\"vega-lite\"))\n",
       "        .then(() => loadScript(\"vega-embed\"))\n",
       "        .catch(showError)\n",
       "        .then(() => displayChart(vegaEmbed));\n",
       "    }\n",
       "  })({\"config\": {\"view\": {\"continuousWidth\": 400, \"continuousHeight\": 300}}, \"layer\": [{\"mark\": \"bar\", \"encoding\": {\"x\": {\"type\": \"ordinal\", \"field\": \"day\"}, \"y\": {\"type\": \"quantitative\", \"field\": \"Cases\"}}, \"width\": 870}, {\"mark\": {\"type\": \"text\", \"align\": \"center\", \"dy\": -8, \"fontSize\": 8.5}, \"encoding\": {\"text\": {\"type\": \"quantitative\", \"field\": \"Cases\"}, \"x\": {\"type\": \"ordinal\", \"field\": \"day\"}, \"y\": {\"type\": \"quantitative\", \"field\": \"Cases\"}}, \"width\": 870}], \"data\": {\"name\": \"data-b73fccf84b6cc39bd76581d9fbbda496\"}, \"title\": \"Number of Cases by day\", \"$schema\": \"https://vega.github.io/schema/vega-lite/v4.8.1.json\", \"datasets\": {\"data-b73fccf84b6cc39bd76581d9fbbda496\": [{\"day\": 13, \"Cases\": 109612}, {\"day\": 14, \"Cases\": 106755}, {\"day\": 12, \"Cases\": 101420}, {\"day\": 16, \"Cases\": 99780}, {\"day\": 15, \"Cases\": 92297}, {\"day\": 11, \"Cases\": 87366}, {\"day\": 21, \"Cases\": 84568}, {\"day\": 25, \"Cases\": 76294}, {\"day\": 22, \"Cases\": 75449}, {\"day\": 20, \"Cases\": 72949}, {\"day\": 24, \"Cases\": 71709}, {\"day\": 18, \"Cases\": 69656}, {\"day\": 28, \"Cases\": 68526}, {\"day\": 23, \"Cases\": 67298}, {\"day\": 26, \"Cases\": 66342}, {\"day\": 17, \"Cases\": 65444}, {\"day\": 27, \"Cases\": 61938}, {\"day\": 10, \"Cases\": 60766}, {\"day\": 9, \"Cases\": 59698}, {\"day\": 8, \"Cases\": 58570}, {\"day\": 7, \"Cases\": 58161}, {\"day\": 29, \"Cases\": 58133}, {\"day\": 4, \"Cases\": 57414}, {\"day\": 2, \"Cases\": 57019}, {\"day\": 3, \"Cases\": 56992}, {\"day\": 19, \"Cases\": 56712}, {\"day\": 30, \"Cases\": 50636}, {\"day\": 6, \"Cases\": 49981}, {\"day\": 5, \"Cases\": 49888}, {\"day\": 1, \"Cases\": 45671}, {\"day\": 31, \"Cases\": 33218}]}}, {\"mode\": \"vega-lite\"});\n",
       "</script>"
      ],
      "text/plain": [
       "alt.LayerChart(...)"
      ]
     },
     "execution_count": 35,
     "metadata": {},
     "output_type": "execute_result"
    }
   ],
   "source": [
    "horizontal_bar_chart(df, 'day', font_size=8.5, width=870).properties(\n",
    "    title = 'Number of Cases by day'\n",
    ")"
   ]
  },
  {
   "cell_type": "markdown",
   "id": "7fd407ee",
   "metadata": {},
   "source": [
    "## Exporting the dataframe with the total cases"
   ]
  },
  {
   "cell_type": "code",
   "execution_count": 36,
   "id": "f320e51a",
   "metadata": {},
   "outputs": [],
   "source": [
    "df.to_csv('master_data_table_appended.csv', index=False)"
   ]
  }
 ],
 "metadata": {
  "kernelspec": {
   "display_name": "Python 3 (ipykernel)",
   "language": "python",
   "name": "python3"
  },
  "language_info": {
   "codemirror_mode": {
    "name": "ipython",
    "version": 3
   },
   "file_extension": ".py",
   "mimetype": "text/x-python",
   "name": "python",
   "nbconvert_exporter": "python",
   "pygments_lexer": "ipython3",
   "version": "3.7.11"
  }
 },
 "nbformat": 4,
 "nbformat_minor": 5
}
